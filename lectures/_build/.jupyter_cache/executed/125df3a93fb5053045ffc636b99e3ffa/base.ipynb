{
 "cells": [
  {
   "cell_type": "code",
   "execution_count": 1,
   "id": "6c503dfc",
   "metadata": {},
   "outputs": [
    {
     "data": {
      "text/plain": [
       "True"
      ]
     },
     "execution_count": 1,
     "metadata": {},
     "output_type": "execute_result"
    }
   ],
   "source": [
    "x = True\n",
    "x"
   ]
  },
  {
   "cell_type": "code",
   "execution_count": 2,
   "id": "8eeeae6f",
   "metadata": {},
   "outputs": [
    {
     "data": {
      "text/plain": [
       "bool"
      ]
     },
     "execution_count": 2,
     "metadata": {},
     "output_type": "execute_result"
    }
   ],
   "source": [
    "type(x)"
   ]
  },
  {
   "cell_type": "code",
   "execution_count": 3,
   "id": "0685b6f1",
   "metadata": {},
   "outputs": [
    {
     "data": {
      "text/plain": [
       "False"
      ]
     },
     "execution_count": 3,
     "metadata": {},
     "output_type": "execute_result"
    }
   ],
   "source": [
    "y = 100 < 10\n",
    "y"
   ]
  },
  {
   "cell_type": "code",
   "execution_count": 4,
   "id": "55492c16",
   "metadata": {},
   "outputs": [
    {
     "data": {
      "text/plain": [
       "bool"
      ]
     },
     "execution_count": 4,
     "metadata": {},
     "output_type": "execute_result"
    }
   ],
   "source": [
    "type(y)"
   ]
  },
  {
   "cell_type": "code",
   "execution_count": 5,
   "id": "12f2810e",
   "metadata": {},
   "outputs": [
    {
     "data": {
      "text/plain": [
       "1"
      ]
     },
     "execution_count": 5,
     "metadata": {},
     "output_type": "execute_result"
    }
   ],
   "source": [
    "x + y"
   ]
  },
  {
   "cell_type": "code",
   "execution_count": 6,
   "id": "cee43540",
   "metadata": {},
   "outputs": [
    {
     "data": {
      "text/plain": [
       "0"
      ]
     },
     "execution_count": 6,
     "metadata": {},
     "output_type": "execute_result"
    }
   ],
   "source": [
    "x * y"
   ]
  },
  {
   "cell_type": "code",
   "execution_count": 7,
   "id": "8396d222",
   "metadata": {},
   "outputs": [
    {
     "data": {
      "text/plain": [
       "2"
      ]
     },
     "execution_count": 7,
     "metadata": {},
     "output_type": "execute_result"
    }
   ],
   "source": [
    "True + True"
   ]
  },
  {
   "cell_type": "code",
   "execution_count": 8,
   "id": "091489e9",
   "metadata": {},
   "outputs": [
    {
     "data": {
      "text/plain": [
       "3"
      ]
     },
     "execution_count": 8,
     "metadata": {},
     "output_type": "execute_result"
    }
   ],
   "source": [
    "bools = [True, True, False, True]  # List of Boolean values\n",
    "\n",
    "sum(bools)"
   ]
  },
  {
   "cell_type": "code",
   "execution_count": 9,
   "id": "bfa50e47",
   "metadata": {},
   "outputs": [
    {
     "name": "stdout",
     "output_type": "stream",
     "text": [
      "5j\n"
     ]
    },
    {
     "data": {
      "text/plain": [
       "complex"
      ]
     },
     "execution_count": 9,
     "metadata": {},
     "output_type": "execute_result"
    }
   ],
   "source": [
    "x = complex(1, 2)\n",
    "y = complex(2, 1)\n",
    "print(x * y)\n",
    "\n",
    "type(x)"
   ]
  },
  {
   "cell_type": "code",
   "execution_count": 10,
   "id": "7d728863",
   "metadata": {},
   "outputs": [],
   "source": [
    "numbers = [1, 2, 3, 4, 5]  # Creating a list of numbers\n",
    "\n",
    "fruits = ['apple', 'banana', 'cherry'] # Creating a list of strings"
   ]
  },
  {
   "cell_type": "code",
   "execution_count": 11,
   "id": "0815ee05",
   "metadata": {},
   "outputs": [
    {
     "name": "stdout",
     "output_type": "stream",
     "text": [
      "1\n",
      "banana\n"
     ]
    }
   ],
   "source": [
    "print(numbers[0])  # Output: 1\n",
    "print(fruits[1])   # Output: 'banana'"
   ]
  },
  {
   "cell_type": "code",
   "execution_count": 12,
   "id": "6c57aa42",
   "metadata": {},
   "outputs": [
    {
     "data": {
      "text/plain": [
       "('a', 'b')"
      ]
     },
     "execution_count": 12,
     "metadata": {},
     "output_type": "execute_result"
    }
   ],
   "source": [
    "x = ('a', 'b')  # Parentheses instead of the square brackets\n",
    "x = 'a', 'b'    # Or no brackets --- the meaning is identical\n",
    "x"
   ]
  },
  {
   "cell_type": "code",
   "execution_count": 13,
   "id": "bf1d0712",
   "metadata": {},
   "outputs": [
    {
     "data": {
      "text/plain": [
       "tuple"
      ]
     },
     "execution_count": 13,
     "metadata": {},
     "output_type": "execute_result"
    }
   ],
   "source": [
    "type(x)"
   ]
  },
  {
   "cell_type": "code",
   "execution_count": 14,
   "id": "511834d1",
   "metadata": {},
   "outputs": [
    {
     "data": {
      "text/plain": [
       "[10, 2]"
      ]
     },
     "execution_count": 14,
     "metadata": {},
     "output_type": "execute_result"
    }
   ],
   "source": [
    "x = [1, 2]\n",
    "x[0] = 10\n",
    "x"
   ]
  },
  {
   "cell_type": "code",
   "execution_count": 15,
   "id": "2883356b",
   "metadata": {
    "tags": [
     "raises-exception"
    ]
   },
   "outputs": [
    {
     "ename": "TypeError",
     "evalue": "'tuple' object does not support item assignment",
     "output_type": "error",
     "traceback": [
      "\u001b[0;31m---------------------------------------------------------------------------\u001b[0m",
      "\u001b[0;31mTypeError\u001b[0m                                 Traceback (most recent call last)",
      "Cell \u001b[0;32mIn[15], line 2\u001b[0m\n\u001b[1;32m      1\u001b[0m x \u001b[38;5;241m=\u001b[39m (\u001b[38;5;241m1\u001b[39m, \u001b[38;5;241m2\u001b[39m)\n\u001b[0;32m----> 2\u001b[0m x[\u001b[38;5;241m0\u001b[39m] \u001b[38;5;241m=\u001b[39m \u001b[38;5;241m10\u001b[39m\n",
      "\u001b[0;31mTypeError\u001b[0m: 'tuple' object does not support item assignment"
     ]
    }
   ],
   "source": [
    "x = (1, 2)\n",
    "x[0] = 10"
   ]
  },
  {
   "cell_type": "code",
   "execution_count": 16,
   "id": "29aca03b",
   "metadata": {},
   "outputs": [
    {
     "data": {
      "text/plain": [
       "10"
      ]
     },
     "execution_count": 16,
     "metadata": {},
     "output_type": "execute_result"
    }
   ],
   "source": [
    "integers = (10, 20, 30)\n",
    "x, y, z = integers\n",
    "x"
   ]
  },
  {
   "cell_type": "code",
   "execution_count": 17,
   "id": "3ce33509",
   "metadata": {},
   "outputs": [
    {
     "data": {
      "text/plain": [
       "20"
      ]
     },
     "execution_count": 17,
     "metadata": {},
     "output_type": "execute_result"
    }
   ],
   "source": [
    "y"
   ]
  },
  {
   "cell_type": "code",
   "execution_count": 18,
   "id": "f142cbc8",
   "metadata": {},
   "outputs": [
    {
     "data": {
      "text/plain": [
       "['b', 'c', 'd', 'e']"
      ]
     },
     "execution_count": 18,
     "metadata": {},
     "output_type": "execute_result"
    }
   ],
   "source": [
    "a = [\"a\", \"b\", \"c\", \"d\", \"e\"]\n",
    "a[1:]"
   ]
  },
  {
   "cell_type": "code",
   "execution_count": 19,
   "id": "0236c6b2",
   "metadata": {},
   "outputs": [
    {
     "data": {
      "text/plain": [
       "['b', 'c']"
      ]
     },
     "execution_count": 19,
     "metadata": {},
     "output_type": "execute_result"
    }
   ],
   "source": [
    "a[1:3]"
   ]
  },
  {
   "cell_type": "code",
   "execution_count": 20,
   "id": "3b2d359c",
   "metadata": {},
   "outputs": [
    {
     "data": {
      "text/plain": [
       "['d', 'e']"
      ]
     },
     "execution_count": 20,
     "metadata": {},
     "output_type": "execute_result"
    }
   ],
   "source": [
    "a[-2:]  # Last two elements of the list"
   ]
  },
  {
   "cell_type": "code",
   "execution_count": 21,
   "id": "5d58cb56",
   "metadata": {},
   "outputs": [
    {
     "data": {
      "text/plain": [
       "['a', 'c', 'e']"
      ]
     },
     "execution_count": 21,
     "metadata": {},
     "output_type": "execute_result"
    }
   ],
   "source": [
    "a[::2]"
   ]
  },
  {
   "cell_type": "code",
   "execution_count": 22,
   "id": "978b886e",
   "metadata": {},
   "outputs": [
    {
     "data": {
      "text/plain": [
       "['d', 'c', 'b', 'a']"
      ]
     },
     "execution_count": 22,
     "metadata": {},
     "output_type": "execute_result"
    }
   ],
   "source": [
    "a[-2::-1] # Walk backwards from the second last element to the first element"
   ]
  },
  {
   "cell_type": "code",
   "execution_count": 23,
   "id": "f2ab48fc",
   "metadata": {},
   "outputs": [
    {
     "data": {
      "text/plain": [
       "'bar'"
      ]
     },
     "execution_count": 23,
     "metadata": {},
     "output_type": "execute_result"
    }
   ],
   "source": [
    "s = 'foobar'\n",
    "s[-3:]  # Select the last three elements"
   ]
  },
  {
   "cell_type": "code",
   "execution_count": 24,
   "id": "2286be6d",
   "metadata": {},
   "outputs": [
    {
     "data": {
      "text/plain": [
       "dict"
      ]
     },
     "execution_count": 24,
     "metadata": {},
     "output_type": "execute_result"
    }
   ],
   "source": [
    "d = {'name': 'Frodo', 'age': 33}\n",
    "type(d)"
   ]
  },
  {
   "cell_type": "code",
   "execution_count": 25,
   "id": "703782b4",
   "metadata": {},
   "outputs": [
    {
     "data": {
      "text/plain": [
       "33"
      ]
     },
     "execution_count": 25,
     "metadata": {},
     "output_type": "execute_result"
    }
   ],
   "source": [
    "d['age']"
   ]
  },
  {
   "cell_type": "code",
   "execution_count": 26,
   "id": "dbbdd286",
   "metadata": {},
   "outputs": [
    {
     "data": {
      "text/plain": [
       "set"
      ]
     },
     "execution_count": 26,
     "metadata": {},
     "output_type": "execute_result"
    }
   ],
   "source": [
    "s1 = {'a', 'b'}\n",
    "type(s1)"
   ]
  },
  {
   "cell_type": "code",
   "execution_count": 27,
   "id": "6399530b",
   "metadata": {},
   "outputs": [
    {
     "data": {
      "text/plain": [
       "False"
      ]
     },
     "execution_count": 27,
     "metadata": {},
     "output_type": "execute_result"
    }
   ],
   "source": [
    "s2 = {'b', 'c'}\n",
    "s1.issubset(s2)"
   ]
  },
  {
   "cell_type": "code",
   "execution_count": 28,
   "id": "6fae7d83",
   "metadata": {},
   "outputs": [
    {
     "data": {
      "text/plain": [
       "{'b'}"
      ]
     },
     "execution_count": 28,
     "metadata": {},
     "output_type": "execute_result"
    }
   ],
   "source": [
    "s1.intersection(s2)"
   ]
  },
  {
   "cell_type": "code",
   "execution_count": 29,
   "id": "f61cba56",
   "metadata": {},
   "outputs": [
    {
     "data": {
      "text/plain": [
       "{'bar', 'foo'}"
      ]
     },
     "execution_count": 29,
     "metadata": {},
     "output_type": "execute_result"
    }
   ],
   "source": [
    "s3 = set(('foo', 'bar', 'foo'))\n",
    "s3"
   ]
  },
  {
   "cell_type": "code",
   "execution_count": 30,
   "id": "9c6332b9",
   "metadata": {},
   "outputs": [],
   "source": [
    "f = open('newfile.txt', 'w')   # Open 'newfile.txt' for writing\n",
    "f.write('Testing\\n')           # Here '\\n' means new line\n",
    "f.write('Testing again')\n",
    "f.close()"
   ]
  },
  {
   "cell_type": "code",
   "execution_count": 31,
   "id": "fc15a12d",
   "metadata": {},
   "outputs": [
    {
     "data": {
      "text/plain": [
       "'/Users/amirrezamousavi/Desktop/test_dash_3/python_dash/lectures'"
      ]
     },
     "execution_count": 31,
     "metadata": {},
     "output_type": "execute_result"
    }
   ],
   "source": [
    "%pwd"
   ]
  },
  {
   "cell_type": "code",
   "execution_count": 32,
   "id": "fe2b4b5c",
   "metadata": {},
   "outputs": [
    {
     "data": {
      "text/plain": [
       "'Testing\\nTesting again'"
      ]
     },
     "execution_count": 32,
     "metadata": {},
     "output_type": "execute_result"
    }
   ],
   "source": [
    "f = open('newfile.txt', 'r')\n",
    "out = f.read()\n",
    "out"
   ]
  },
  {
   "cell_type": "code",
   "execution_count": 33,
   "id": "a759e69e",
   "metadata": {},
   "outputs": [
    {
     "name": "stdout",
     "output_type": "stream",
     "text": [
      "Testing\n",
      "Testing again\n"
     ]
    }
   ],
   "source": [
    "print(out)"
   ]
  },
  {
   "cell_type": "code",
   "execution_count": 34,
   "id": "85647da7",
   "metadata": {},
   "outputs": [],
   "source": [
    "with open('newfile.txt', 'w') as f:  \n",
    "    f.write('Testing\\n')         \n",
    "    f.write('Testing again')"
   ]
  },
  {
   "cell_type": "code",
   "execution_count": 35,
   "id": "a158e085",
   "metadata": {},
   "outputs": [
    {
     "name": "stdout",
     "output_type": "stream",
     "text": [
      "Testing\n",
      "Testing again\n"
     ]
    }
   ],
   "source": [
    "with open('newfile.txt', 'r') as fo:\n",
    "    out = fo.read()\n",
    "    print(out)"
   ]
  },
  {
   "cell_type": "code",
   "execution_count": 36,
   "id": "603d8cff",
   "metadata": {},
   "outputs": [],
   "source": [
    "with open(\"newfile.txt\", \"r\") as f:\n",
    "    file = f.readlines()\n",
    "    with open(\"output.txt\", \"w\") as fo:\n",
    "        for i, line in enumerate(file):\n",
    "            fo.write(f'Line {i}: {line} \\n')"
   ]
  },
  {
   "cell_type": "code",
   "execution_count": 37,
   "id": "3dbfada6",
   "metadata": {},
   "outputs": [
    {
     "name": "stdout",
     "output_type": "stream",
     "text": [
      "Line 0: Testing\n",
      " \n",
      "Line 1: Testing again \n",
      "\n"
     ]
    }
   ],
   "source": [
    "with open('output.txt', 'r') as fo:\n",
    "    print(fo.read())"
   ]
  },
  {
   "cell_type": "code",
   "execution_count": 38,
   "id": "ba4f9d68",
   "metadata": {},
   "outputs": [],
   "source": [
    "with open(\"newfile.txt\", \"r\") as f, open(\"output2.txt\", \"w\") as fo:\n",
    "        for i, line in enumerate(f):\n",
    "            fo.write(f'Line {i}: {line} \\n')"
   ]
  },
  {
   "cell_type": "code",
   "execution_count": 39,
   "id": "22e0c4a3",
   "metadata": {},
   "outputs": [
    {
     "name": "stdout",
     "output_type": "stream",
     "text": [
      "Line 0: Testing\n",
      " \n",
      "Line 1: Testing again \n",
      "\n"
     ]
    }
   ],
   "source": [
    "with open('output2.txt', 'r') as fo:\n",
    "    print(fo.read())"
   ]
  },
  {
   "cell_type": "code",
   "execution_count": 40,
   "id": "dfd65423",
   "metadata": {},
   "outputs": [],
   "source": [
    "with open('output2.txt', 'a') as fo:\n",
    "    fo.write('\\nThis is the end of the file')"
   ]
  },
  {
   "cell_type": "code",
   "execution_count": 41,
   "id": "ca58e340",
   "metadata": {},
   "outputs": [
    {
     "name": "stdout",
     "output_type": "stream",
     "text": [
      "Line 0: Testing\n",
      " \n",
      "Line 1: Testing again \n",
      "\n",
      "This is the end of the file\n"
     ]
    }
   ],
   "source": [
    "with open('output2.txt', 'r') as fo:\n",
    "    print(fo.read())"
   ]
  },
  {
   "cell_type": "code",
   "execution_count": 42,
   "id": "9edcb1f5",
   "metadata": {},
   "outputs": [
    {
     "name": "stdout",
     "output_type": "stream",
     "text": [
      "Writing us_cities.txt\n"
     ]
    }
   ],
   "source": [
    "%%writefile us_cities.txt\n",
    "new york: 8244910\n",
    "los angeles: 3819702\n",
    "chicago: 2707120\n",
    "houston: 2145146\n",
    "philadelphia: 1536471\n",
    "phoenix: 1469471\n",
    "san antonio: 1359758\n",
    "san diego: 1326179\n",
    "dallas: 1223229"
   ]
  },
  {
   "cell_type": "code",
   "execution_count": 43,
   "id": "6faee633",
   "metadata": {},
   "outputs": [
    {
     "name": "stdout",
     "output_type": "stream",
     "text": [
      "New York       8,244,910\n",
      "Los Angeles    3,819,702\n",
      "Chicago        2,707,120\n",
      "Houston        2,145,146\n",
      "Philadelphia   1,536,471\n",
      "Phoenix        1,469,471\n",
      "San Antonio    1,359,758\n",
      "San Diego      1,326,179\n",
      "Dallas         1,223,229\n"
     ]
    }
   ],
   "source": [
    "data_file = open('us_cities.txt', 'r')\n",
    "for line in data_file:\n",
    "    city, population = line.split(':')         # Tuple unpacking\n",
    "    city = city.title()                        # Capitalize city names\n",
    "    population = f'{int(population):,}'        # Add commas to numbers\n",
    "    print(city.ljust(15) + population)\n",
    "data_file.close()"
   ]
  },
  {
   "cell_type": "code",
   "execution_count": 44,
   "id": "9fb57e54",
   "metadata": {},
   "outputs": [
    {
     "name": "stdout",
     "output_type": "stream",
     "text": [
      "1\n",
      "4\n",
      "9\n"
     ]
    }
   ],
   "source": [
    "x_values = [1, 2, 3]  # Some iterable x\n",
    "for x in x_values:\n",
    "    print(x * x)"
   ]
  },
  {
   "cell_type": "code",
   "execution_count": 45,
   "id": "c1a98ef1",
   "metadata": {},
   "outputs": [
    {
     "name": "stdout",
     "output_type": "stream",
     "text": [
      "1\n",
      "4\n",
      "9\n"
     ]
    }
   ],
   "source": [
    "for i in range(len(x_values)):\n",
    "    print(x_values[i] * x_values[i])"
   ]
  },
  {
   "cell_type": "code",
   "execution_count": 46,
   "id": "c3037a6a",
   "metadata": {},
   "outputs": [
    {
     "name": "stdout",
     "output_type": "stream",
     "text": [
      "The capital of Japan is Tokyo\n",
      "The capital of Korea is Seoul\n",
      "The capital of China is Beijing\n"
     ]
    }
   ],
   "source": [
    "countries = ('Japan', 'Korea', 'China')\n",
    "cities = ('Tokyo', 'Seoul', 'Beijing')\n",
    "for country, city in zip(countries, cities):\n",
    "    print(f'The capital of {country} is {city}')"
   ]
  },
  {
   "cell_type": "code",
   "execution_count": 47,
   "id": "91a51fb2",
   "metadata": {},
   "outputs": [
    {
     "data": {
      "text/plain": [
       "{'Tom': 'E', 'John': 'F'}"
      ]
     },
     "execution_count": 47,
     "metadata": {},
     "output_type": "execute_result"
    }
   ],
   "source": [
    "names = ['Tom', 'John']\n",
    "marks = ['E', 'F']\n",
    "dict(zip(names, marks))"
   ]
  },
  {
   "cell_type": "code",
   "execution_count": 48,
   "id": "9251ab49",
   "metadata": {},
   "outputs": [
    {
     "name": "stdout",
     "output_type": "stream",
     "text": [
      "letter_list[0] = 'a'\n",
      "letter_list[1] = 'b'\n",
      "letter_list[2] = 'c'\n"
     ]
    }
   ],
   "source": [
    "letter_list = ['a', 'b', 'c']\n",
    "for index, letter in enumerate(letter_list):\n",
    "    print(f\"letter_list[{index}] = '{letter}'\")"
   ]
  },
  {
   "cell_type": "code",
   "execution_count": 49,
   "id": "9a033db5",
   "metadata": {},
   "outputs": [
    {
     "data": {
      "text/plain": [
       "['dogs', 'cats', 'birds']"
      ]
     },
     "execution_count": 49,
     "metadata": {},
     "output_type": "execute_result"
    }
   ],
   "source": [
    "animals = ['dog', 'cat', 'bird']\n",
    "plurals = [animal + 's' for animal in animals]\n",
    "plurals"
   ]
  },
  {
   "cell_type": "code",
   "execution_count": 50,
   "id": "a5696a02",
   "metadata": {},
   "outputs": [
    {
     "data": {
      "text/plain": [
       "range(0, 8)"
      ]
     },
     "execution_count": 50,
     "metadata": {},
     "output_type": "execute_result"
    }
   ],
   "source": [
    "range(8)"
   ]
  },
  {
   "cell_type": "code",
   "execution_count": 51,
   "id": "6586021a",
   "metadata": {},
   "outputs": [
    {
     "data": {
      "text/plain": [
       "[0, 2, 4, 6, 8, 10, 12, 14]"
      ]
     },
     "execution_count": 51,
     "metadata": {},
     "output_type": "execute_result"
    }
   ],
   "source": [
    "doubles = [2 * x for x in range(8)]\n",
    "doubles"
   ]
  },
  {
   "cell_type": "code",
   "execution_count": 52,
   "id": "6c64a2cf",
   "metadata": {},
   "outputs": [
    {
     "data": {
      "text/plain": [
       "True"
      ]
     },
     "execution_count": 52,
     "metadata": {},
     "output_type": "execute_result"
    }
   ],
   "source": [
    "x, y = 1, 2\n",
    "x < y"
   ]
  },
  {
   "cell_type": "code",
   "execution_count": 53,
   "id": "a0c9d998",
   "metadata": {},
   "outputs": [
    {
     "data": {
      "text/plain": [
       "False"
      ]
     },
     "execution_count": 53,
     "metadata": {},
     "output_type": "execute_result"
    }
   ],
   "source": [
    "x > y"
   ]
  },
  {
   "cell_type": "code",
   "execution_count": 54,
   "id": "10068f21",
   "metadata": {},
   "outputs": [
    {
     "data": {
      "text/plain": [
       "True"
      ]
     },
     "execution_count": 54,
     "metadata": {},
     "output_type": "execute_result"
    }
   ],
   "source": [
    "1 < 2 < 3"
   ]
  },
  {
   "cell_type": "code",
   "execution_count": 55,
   "id": "fe9dce62",
   "metadata": {},
   "outputs": [
    {
     "data": {
      "text/plain": [
       "True"
      ]
     },
     "execution_count": 55,
     "metadata": {},
     "output_type": "execute_result"
    }
   ],
   "source": [
    "1 <= 2 <= 3"
   ]
  },
  {
   "cell_type": "code",
   "execution_count": 56,
   "id": "047a185e",
   "metadata": {},
   "outputs": [
    {
     "data": {
      "text/plain": [
       "False"
      ]
     },
     "execution_count": 56,
     "metadata": {},
     "output_type": "execute_result"
    }
   ],
   "source": [
    "x = 1    # Assignment\n",
    "x == 2   # Comparison"
   ]
  },
  {
   "cell_type": "code",
   "execution_count": 57,
   "id": "31e4c19c",
   "metadata": {},
   "outputs": [
    {
     "data": {
      "text/plain": [
       "True"
      ]
     },
     "execution_count": 57,
     "metadata": {},
     "output_type": "execute_result"
    }
   ],
   "source": [
    "1 != 2"
   ]
  },
  {
   "cell_type": "code",
   "execution_count": 58,
   "id": "2b90f64d",
   "metadata": {},
   "outputs": [
    {
     "data": {
      "text/plain": [
       "'yes'"
      ]
     },
     "execution_count": 58,
     "metadata": {},
     "output_type": "execute_result"
    }
   ],
   "source": [
    "x = 'yes' if 42 else 'no'\n",
    "x"
   ]
  },
  {
   "cell_type": "code",
   "execution_count": 59,
   "id": "08e64319",
   "metadata": {},
   "outputs": [
    {
     "data": {
      "text/plain": [
       "'no'"
      ]
     },
     "execution_count": 59,
     "metadata": {},
     "output_type": "execute_result"
    }
   ],
   "source": [
    "x = 'yes' if [] else 'no'\n",
    "x"
   ]
  },
  {
   "cell_type": "code",
   "execution_count": 60,
   "id": "12faab04",
   "metadata": {},
   "outputs": [
    {
     "data": {
      "text/plain": [
       "True"
      ]
     },
     "execution_count": 60,
     "metadata": {},
     "output_type": "execute_result"
    }
   ],
   "source": [
    "1 < 2 and 'f' in 'foo'"
   ]
  },
  {
   "cell_type": "code",
   "execution_count": 61,
   "id": "2222216d",
   "metadata": {},
   "outputs": [
    {
     "data": {
      "text/plain": [
       "False"
      ]
     },
     "execution_count": 61,
     "metadata": {},
     "output_type": "execute_result"
    }
   ],
   "source": [
    "1 < 2 and 'g' in 'foo'"
   ]
  },
  {
   "cell_type": "code",
   "execution_count": 62,
   "id": "99773d29",
   "metadata": {},
   "outputs": [
    {
     "data": {
      "text/plain": [
       "True"
      ]
     },
     "execution_count": 62,
     "metadata": {},
     "output_type": "execute_result"
    }
   ],
   "source": [
    "1 < 2 or 'g' in 'foo'"
   ]
  },
  {
   "cell_type": "code",
   "execution_count": 63,
   "id": "0289b8e1",
   "metadata": {},
   "outputs": [
    {
     "data": {
      "text/plain": [
       "False"
      ]
     },
     "execution_count": 63,
     "metadata": {},
     "output_type": "execute_result"
    }
   ],
   "source": [
    "not True"
   ]
  },
  {
   "cell_type": "code",
   "execution_count": 64,
   "id": "9536e14f",
   "metadata": {},
   "outputs": [
    {
     "data": {
      "text/plain": [
       "True"
      ]
     },
     "execution_count": 64,
     "metadata": {},
     "output_type": "execute_result"
    }
   ],
   "source": [
    "not not True"
   ]
  },
  {
   "cell_type": "code",
   "execution_count": 65,
   "id": "ef285e9e",
   "metadata": {},
   "outputs": [
    {
     "data": {
      "text/plain": [
       "True"
      ]
     },
     "execution_count": 65,
     "metadata": {},
     "output_type": "execute_result"
    }
   ],
   "source": [
    "all([1 <= 2 <= 3, 5 <= 6 <= 7])"
   ]
  },
  {
   "cell_type": "code",
   "execution_count": 66,
   "id": "1a8c64fd",
   "metadata": {},
   "outputs": [
    {
     "data": {
      "text/plain": [
       "False"
      ]
     },
     "execution_count": 66,
     "metadata": {},
     "output_type": "execute_result"
    }
   ],
   "source": [
    "all([1 <= 2 <= 3, \"a\" in \"letter\"])"
   ]
  },
  {
   "cell_type": "code",
   "execution_count": 67,
   "id": "3c5f5944",
   "metadata": {},
   "outputs": [
    {
     "data": {
      "text/plain": [
       "True"
      ]
     },
     "execution_count": 67,
     "metadata": {},
     "output_type": "execute_result"
    }
   ],
   "source": [
    "any([1 <= 2 <= 3, \"a\" in \"letter\"])"
   ]
  },
  {
   "cell_type": "code",
   "execution_count": 68,
   "id": "fb3930cb",
   "metadata": {},
   "outputs": [],
   "source": [
    "def f(x):\n",
    "    \"\"\"\n",
    "    This function squares its argument\n",
    "    \"\"\"\n",
    "    return x**2"
   ]
  },
  {
   "cell_type": "code",
   "execution_count": 69,
   "id": "4a9036ac",
   "metadata": {},
   "outputs": [],
   "source": [
    "f?"
   ]
  },
  {
   "cell_type": "code",
   "execution_count": 70,
   "id": "0ea7b73e",
   "metadata": {},
   "outputs": [],
   "source": [
    "f??"
   ]
  }
 ],
 "metadata": {
  "jupytext": {
   "text_representation": {
    "extension": ".md",
    "format_name": "myst"
   }
  },
  "kernelspec": {
   "display_name": "Python 3",
   "language": "python",
   "name": "python3"
  },
  "language_info": {
   "codemirror_mode": {
    "name": "ipython",
    "version": 3
   },
   "file_extension": ".py",
   "mimetype": "text/x-python",
   "name": "python",
   "nbconvert_exporter": "python",
   "pygments_lexer": "ipython3",
   "version": "3.11.5"
  },
  "source_map": [
   10,
   65,
   68,
   72,
   74,
   78,
   83,
   85,
   93,
   97,
   101,
   105,
   109,
   119,
   125,
   137,
   141,
   145,
   148,
   157,
   163,
   165,
   173,
   177,
   181,
   187,
   193,
   199,
   201,
   215,
   220,
   222,
   228,
   230,
   234,
   236,
   240,
   242,
   246,
   249,
   264,
   269,
   271,
   280,
   285,
   290,
   292,
   296,
   299,
   308,
   313,
   324,
   326,
   332,
   338,
   340,
   353,
   358,
   365,
   369,
   374,
   380,
   384,
   387,
   391,
   395,
   399,
   402,
   409,
   414,
   417,
   459,
   470,
   478,
   486,
   508,
   512,
   516,
   519,
   529,
   534,
   539,
   543,
   549,
   553,
   567,
   571,
   575,
   579,
   582,
   595,
   600,
   602,
   606,
   610,
   612,
   616,
   619,
   623,
   625,
   629,
   634,
   637,
   657,
   661,
   665,
   669,
   673,
   675,
   684,
   687,
   690,
   692,
   737,
   743,
   747,
   749,
   761,
   763
  ]
 },
 "nbformat": 4,
 "nbformat_minor": 5
}