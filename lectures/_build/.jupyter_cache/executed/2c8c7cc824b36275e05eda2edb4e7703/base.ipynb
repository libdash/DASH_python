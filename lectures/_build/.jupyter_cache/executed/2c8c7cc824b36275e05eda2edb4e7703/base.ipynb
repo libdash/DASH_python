{
 "cells": [
  {
   "cell_type": "code",
   "execution_count": 1,
   "id": "3e1d9e80",
   "metadata": {},
   "outputs": [],
   "source": [
    "import numpy as np\n",
    "import matplotlib.pyplot as plt"
   ]
  },
  {
   "cell_type": "code",
   "execution_count": 2,
   "id": "d0934fe2",
   "metadata": {},
   "outputs": [
    {
     "data": {
      "text/plain": [
       "20"
      ]
     },
     "execution_count": 2,
     "metadata": {},
     "output_type": "execute_result"
    }
   ],
   "source": [
    "max(19, 20)"
   ]
  },
  {
   "cell_type": "code",
   "execution_count": 3,
   "id": "0aa7205c",
   "metadata": {},
   "outputs": [
    {
     "name": "stdout",
     "output_type": "stream",
     "text": [
      "foobar\n"
     ]
    }
   ],
   "source": [
    "print('foobar')"
   ]
  },
  {
   "cell_type": "code",
   "execution_count": 4,
   "id": "508907a3",
   "metadata": {},
   "outputs": [
    {
     "data": {
      "text/plain": [
       "'22'"
      ]
     },
     "execution_count": 4,
     "metadata": {},
     "output_type": "execute_result"
    }
   ],
   "source": [
    "str(22)"
   ]
  },
  {
   "cell_type": "code",
   "execution_count": 5,
   "id": "cf55ffcc",
   "metadata": {},
   "outputs": [
    {
     "data": {
      "text/plain": [
       "int"
      ]
     },
     "execution_count": 5,
     "metadata": {},
     "output_type": "execute_result"
    }
   ],
   "source": [
    "type(22)"
   ]
  },
  {
   "cell_type": "code",
   "execution_count": 6,
   "id": "b88a21aa",
   "metadata": {},
   "outputs": [
    {
     "data": {
      "text/plain": [
       "True"
      ]
     },
     "execution_count": 6,
     "metadata": {},
     "output_type": "execute_result"
    }
   ],
   "source": [
    "import calendar\n",
    "calendar.isleap(2024)"
   ]
  },
  {
   "cell_type": "code",
   "execution_count": 7,
   "id": "f7637a90",
   "metadata": {},
   "outputs": [],
   "source": [
    "def f(x):\n",
    "    return 2 * x + 1"
   ]
  },
  {
   "cell_type": "code",
   "execution_count": 8,
   "id": "14414c9a",
   "metadata": {},
   "outputs": [
    {
     "data": {
      "text/plain": [
       "3"
      ]
     },
     "execution_count": 8,
     "metadata": {},
     "output_type": "execute_result"
    }
   ],
   "source": [
    "f(1)   "
   ]
  },
  {
   "cell_type": "code",
   "execution_count": 9,
   "id": "9fb510ee",
   "metadata": {},
   "outputs": [
    {
     "data": {
      "text/plain": [
       "21"
      ]
     },
     "execution_count": 9,
     "metadata": {},
     "output_type": "execute_result"
    }
   ],
   "source": [
    "f(10)"
   ]
  },
  {
   "cell_type": "code",
   "execution_count": 10,
   "id": "1b29cd7a",
   "metadata": {},
   "outputs": [],
   "source": [
    "def new_abs_function(x):\n",
    "    if x < 0:\n",
    "        abs_value = -x\n",
    "    else:\n",
    "        abs_value = x\n",
    "    return abs_value"
   ]
  },
  {
   "cell_type": "code",
   "execution_count": 11,
   "id": "7d9b5c02",
   "metadata": {},
   "outputs": [
    {
     "name": "stdout",
     "output_type": "stream",
     "text": [
      "3\n",
      "3\n"
     ]
    }
   ],
   "source": [
    "print(new_abs_function(3))\n",
    "print(new_abs_function(-3))"
   ]
  },
  {
   "cell_type": "code",
   "execution_count": 12,
   "id": "9157edf9",
   "metadata": {},
   "outputs": [],
   "source": [
    "def f(x):\n",
    "    if x < 0:\n",
    "        return 'negative'\n",
    "    return 'nonnegative'"
   ]
  },
  {
   "cell_type": "code",
   "execution_count": 13,
   "id": "d0698f61",
   "metadata": {},
   "outputs": [
    {
     "name": "stdout",
     "output_type": "stream",
     "text": [
      "Hello, my name is Alice and I am 30 years old.\n"
     ]
    }
   ],
   "source": [
    "def greet(name, age):\n",
    "    print(f\"Hello, my name is {name} and I am {age} years old.\")\n",
    "\n",
    "# Using keyword arguments\n",
    "greet(age=30, name='Alice')"
   ]
  },
  {
   "cell_type": "code",
   "execution_count": 14,
   "id": "934f11c0",
   "metadata": {},
   "outputs": [],
   "source": [
    "def f(x):\n",
    "    return x**3"
   ]
  },
  {
   "cell_type": "code",
   "execution_count": 15,
   "id": "8c3f1e39",
   "metadata": {},
   "outputs": [],
   "source": [
    "f = lambda x: x**3"
   ]
  },
  {
   "cell_type": "code",
   "execution_count": 16,
   "id": "65ffd76b",
   "metadata": {},
   "outputs": [
    {
     "data": {
      "text/plain": [
       "(4.0, 4.440892098500626e-14)"
      ]
     },
     "execution_count": 16,
     "metadata": {},
     "output_type": "execute_result"
    }
   ],
   "source": [
    "from scipy.integrate import quad\n",
    "\n",
    "quad(lambda x: x**3, 0, 2)"
   ]
  }
 ],
 "metadata": {
  "jupytext": {
   "text_representation": {
    "extension": ".md",
    "format_name": "myst"
   }
  },
  "kernelspec": {
   "display_name": "Python 3",
   "language": "python",
   "name": "python3"
  },
  "language_info": {
   "codemirror_mode": {
    "name": "ipython",
    "version": 3
   },
   "file_extension": ".py",
   "mimetype": "text/x-python",
   "name": "python",
   "nbconvert_exporter": "python",
   "pygments_lexer": "ipython3",
   "version": "3.11.5"
  },
  "source_map": [
   10,
   42,
   45,
   61,
   65,
   69,
   73,
   75,
   89,
   92,
   104,
   107,
   111,
   115,
   117,
   124,
   131,
   144,
   147,
   155,
   160,
   175,
   181,
   217,
   220,
   224,
   226,
   238,
   242
  ]
 },
 "nbformat": 4,
 "nbformat_minor": 5
}