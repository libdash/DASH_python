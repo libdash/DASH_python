{
 "cells": [
  {
   "cell_type": "markdown",
   "id": "f6584660",
   "metadata": {},
   "source": [
    "# An Introductory Example\n",
    "\n",
    "```{index} single: Python; Introductory Example\n",
    "```\n",
    "\n",
    "## Overview\n",
    "\n",
    "We are now ready to begin learning the Python language.\n",
    "\n",
    "In this lecture, we will create and analyze small Python programs.\n",
    "\n",
    "Our goal is to introduce you to fundamental Python syntax and data structures.\n",
    "\n",
    "More advanced topics will be covered in future lectures.\n",
    "\n",
    "Make sure you have read the {doc}`lecture <getting_started>` lecture before starting this one.\n",
    "\n",
    "\n",
    "## The Task: Plotting a Sine Function\n",
    "\n",
    "Here our goal is to plot Sin(x) where x get the values in the range [0,$2\\pi$]\n",
    "\n",
    "(ourfirstprog)=\n",
    "Here are a few lines of code that perform the task we set"
   ]
  },
  {
   "cell_type": "code",
   "execution_count": null,
   "id": "32a6c944",
   "metadata": {},
   "outputs": [],
   "source": [
    "import numpy as np\n",
    "import matplotlib.pyplot as plt\n",
    "\n",
    "x = np.linspace(0, 2 * np.pi, 1000) # Generate a range of values from 0 to 2π (approximately 6.28)\n",
    "\n",
    "y = np.sin(x) # Calculate the sine of each value in x\n",
    "\n",
    "plt.plot(x, y) # Create a plot\n",
    "plt.show()  # Display the plot"
   ]
  },
  {
   "cell_type": "markdown",
   "id": "bbd2bfcd",
   "metadata": {},
   "source": [
    "Let's break this program down and see how it works.\n",
    "\n",
    "(import)=\n",
    "### Imports\n",
    "\n",
    "The first two lines of the program import functionality from external code\n",
    "libraries.\n",
    "\n",
    "The first line imports {doc}`NumPy <numpy>`, a favorite Python package for tasks like\n",
    "\n",
    "* working with arrays (vectors and matrices)\n",
    "* common mathematical functions like `cos` and `sqrt`\n",
    "* generating random numbers\n",
    "* linear algebra, etc.\n",
    "\n",
    "After `import numpy as np` we have access to these attributes via the syntax `np.attribute`.\n",
    "\n",
    "Here's two more examples"
   ]
  },
  {
   "cell_type": "code",
   "execution_count": null,
   "id": "bb65c12d",
   "metadata": {},
   "outputs": [],
   "source": [
    "np.sqrt(4)"
   ]
  },
  {
   "cell_type": "code",
   "execution_count": null,
   "id": "6adbe81b",
   "metadata": {},
   "outputs": [],
   "source": [
    "np.log(4)"
   ]
  },
  {
   "cell_type": "markdown",
   "id": "068ef34a",
   "metadata": {},
   "source": [
    "#### Why So Many Imports?\n",
    "\n",
    "Python programs typically require multiple import statements.\n",
    "\n",
    "The reason is that the core language is deliberately kept small, so that it's easy to learn, maintain and improve.\n",
    "\n",
    "When you want to do something interesting with Python, you almost always need\n",
    "to import additional functionality.\n",
    "\n",
    "\n",
    "#### Packages\n",
    "\n",
    "```{index} single: Python; Packages\n",
    "```\n",
    "\n",
    "As stated above, NumPy is a Python package.\n",
    "\n",
    "Packages are used by developers to organize code they wish to share.\n",
    "\n",
    "In fact, a **package** is just a directory containing\n",
    "\n",
    "1. files with Python code --- called **modules** in Python speak\n",
    "1. possibly some compiled code that can be accessed by Python (e.g., functions compiled from C or FORTRAN code)\n",
    "1. a file called `__init__.py` that specifies what will be executed when we type `import package_name`\n",
    "\n",
    "You can check the location of your  `__init__.py` for NumPy in python by running the code:\n",
    "\n",
    "```{code-block} ipython\n",
    ":class: no-execute\n",
    "\n",
    "import numpy as np\n",
    "\n",
    "print(np.__file__)\n",
    "```\n",
    "\n",
    "#### Subpackages\n",
    "\n",
    "```{index} single: Python; Subpackages\n",
    "```\n",
    "\n",
    "Consider the line `x = np.linspace(0, 2 * np.pi, 1000)`.\n",
    "\n",
    "Here `np` refers to the package NumPy, while `linspace` is a **subpackage** of NumPy.\n",
    "\n",
    "Subpackages are just packages that are subdirectories of another package. \n",
    "\n",
    "For instance, you can find folder `linspace` under the directory of NumPy.\n",
    "\n",
    "### Importing Names Directly\n",
    "\n",
    "Recall this code that we saw above"
   ]
  },
  {
   "cell_type": "code",
   "execution_count": null,
   "id": "c37f1dc5",
   "metadata": {},
   "outputs": [],
   "source": [
    "import numpy as np\n",
    "\n",
    "np.sqrt(4)"
   ]
  },
  {
   "cell_type": "markdown",
   "id": "3ceb8033",
   "metadata": {},
   "source": [
    "Here's another way to access NumPy's square root function"
   ]
  },
  {
   "cell_type": "code",
   "execution_count": null,
   "id": "a2cb6822",
   "metadata": {},
   "outputs": [],
   "source": [
    "from numpy import sqrt\n",
    "\n",
    "sqrt(4)"
   ]
  },
  {
   "cell_type": "markdown",
   "id": "ef6ee246",
   "metadata": {},
   "source": [
    "This is also fine.\n",
    "\n",
    "The advantage is less typing if we use `sqrt` often in our code.\n",
    "\n",
    "The disadvantage is that, in a long program, these two lines might be\n",
    "separated by many other lines.\n",
    "\n",
    "Then it's harder for readers to know where `sqrt` came from, should they wish to.\n",
    "\n",
    "### Evenly spaced numbers over a specified interval and evaluate output at these generated numbers\n",
    "\n",
    "Returning to our program that plots Sine function, the remaining lines\n",
    "after the import statements are"
   ]
  },
  {
   "cell_type": "code",
   "execution_count": null,
   "id": "ee61c91f",
   "metadata": {},
   "outputs": [],
   "source": [
    "x = np.linspace(0, 2 * np.pi, 1000)\n",
    "y = np.sin(x)\n",
    "plt.plot(x, y)\n",
    "plt.show()"
   ]
  },
  {
   "cell_type": "markdown",
   "id": "86151cac",
   "metadata": {},
   "source": [
    "The first line return 1000 evenly spaced numbers over [0,$2\\pi$] interval.\n",
    "\n",
    "The next line compute the value of Sine function over each of the 1000 numbers in the interval\n",
    "\n",
    "The next two lines genererate the plot."
   ]
  }
 ],
 "metadata": {
  "jupytext": {
   "text_representation": {
    "extension": ".md",
    "format_name": "myst"
   }
  },
  "kernelspec": {
   "display_name": "Python 3",
   "language": "python",
   "name": "python3"
  },
  "source_map": [
   10,
   39,
   49,
   70,
   74,
   76,
   131,
   135,
   139,
   143,
   159,
   164
  ]
 },
 "nbformat": 4,
 "nbformat_minor": 5
}