{
 "cells": [
  {
   "cell_type": "markdown",
   "id": "ef63b9e5",
   "metadata": {},
   "source": [
    "# Python Programming \n",
    " \n",
    "These lectures are provided by [DASH](https://library.mcmaster.ca/services/dash) (Data Analysis Support Hub) for Python programming. \n",
    "The focus of these lectures are on intoduction to python and it's scientific libraries.\n",
    "\n",
    "\n",
    "```{tableofcontents}\n",
    "```"
   ]
  }
 ],
 "metadata": {
  "jupytext": {
   "text_representation": {
    "extension": ".md",
    "format_name": "myst"
   }
  },
  "kernelspec": {
   "display_name": "Python 3",
   "language": "python",
   "name": "python3"
  },
  "source_map": [
   10
  ]
 },
 "nbformat": 4,
 "nbformat_minor": 5
}